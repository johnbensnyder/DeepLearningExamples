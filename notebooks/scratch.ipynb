{
 "cells": [
  {
   "cell_type": "code",
   "execution_count": 1,
   "metadata": {},
   "outputs": [],
   "source": [
    "import sys\n",
    "sys.path.append('..')\n",
    "from awsdet import models\n",
    "from awsdet import datasets\n",
    "from awsdet import core\n",
    "from awsdet import training\n",
    "from awsdet.utils.runner import Runner\n",
    "from awsdet.training.schedulers import WarmupScheduler\n",
    "from awsdet.datasets.coco import evaluation\n",
    "from configs.mrcnn_config import config\n",
    "import tensorflow as tf\n",
    "from tqdm.notebook import tqdm\n",
    "from statistics import mean\n",
    "import threading\n",
    "\n",
    "import horovod.tensorflow as hvd\n",
    "hvd.init()\n",
    "\n",
    "devices = tf.config.list_physical_devices('GPU')\n",
    "tf.config.set_visible_devices([devices[hvd.rank()]], 'GPU')\n",
    "logical_devices = tf.config.list_logical_devices('GPU')\n",
    "tf.config.optimizer.set_experimental_options({\"auto_mixed_precision\": config.train_config.fp16})\n",
    "tf.config.optimizer.set_jit(config.train_config.xla)"
   ]
  },
  {
   "cell_type": "code",
   "execution_count": 2,
   "metadata": {},
   "outputs": [],
   "source": [
    "detector = models.TwoStageDetector(backbone=config.backbone_cfg,\n",
    "                                   neck=config.fpn_cfg,\n",
    "                                   rpn_head=config.rpn_head_cfg,\n",
    "                                   roi_head=config.roi_head_cfg,\n",
    "                                   train_cfg=config.train_config,\n",
    "                                   test_cfg=config.test_config)"
   ]
  },
  {
   "cell_type": "code",
   "execution_count": 3,
   "metadata": {},
   "outputs": [
    {
     "name": "stdout",
     "output_type": "stream",
     "text": [
      "WARNING:tensorflow:From /usr/local/lib/python3.7/site-packages/tensorflow/python/util/deprecation.py:574: calling map_fn_v2 (from tensorflow.python.ops.map_fn) with dtype is deprecated and will be removed in a future version.\n",
      "Instructions for updating:\n",
      "Use fn_output_signature instead\n"
     ]
    }
   ],
   "source": [
    "train_tdf = iter(datasets.build_dataset(config.train_data)().repeat())\n",
    "val_tdf = iter(datasets.build_dataset(config.test_data)().repeat())"
   ]
  },
  {
   "cell_type": "code",
   "execution_count": 4,
   "metadata": {},
   "outputs": [
    {
     "name": "stdout",
     "output_type": "stream",
     "text": [
      "[2021-01-13 12:55:34.120 ip-172-31-38-50:14053 INFO utils.py:27] RULE_JOB_STOP_SIGNAL_FILENAME: None\n",
      "[2021-01-13 12:55:35.350 ip-172-31-38-50:14053 INFO profiler_config_parser.py:102] Unable to find config at /opt/ml/input/config/profilerconfig.json. Profiler is disabled.\n"
     ]
    }
   ],
   "source": [
    "result = detector(next(train_tdf)[0], training=False)"
   ]
  },
  {
   "cell_type": "code",
   "execution_count": 5,
   "metadata": {},
   "outputs": [],
   "source": [
    "chkp = tf.compat.v1.train.NewCheckpointReader(config.backbone_checkpoint)\n",
    "weights = [chkp.get_tensor(i) for i in ['/'.join(i.name.split('/')[-2:]).split(':')[0] for i in detector.layers[0].weights]]\n",
    "detector.layers[0].set_weights(weights)"
   ]
  },
  {
   "cell_type": "code",
   "execution_count": 6,
   "metadata": {},
   "outputs": [],
   "source": [
    "global_batch_size = config.train_data['batch_size'] * hvd.size()\n",
    "steps_per_epoch = 1000 #config.train_config.images//global_batch_size\n",
    "learning_rate = config.train_config.base_lr/8 * global_batch_size\n",
    "    \n",
    "schedule = tf.keras.optimizers.schedules.PiecewiseConstantDecay([steps_per_epoch * 8, steps_per_epoch * 11],\n",
    "                                                                [learning_rate, learning_rate/10, learning_rate/100])\n",
    "\n",
    "schedule = WarmupScheduler(schedule, learning_rate/10, steps_per_epoch//8)\n",
    "\n",
    "optimizer = tf.keras.optimizers.SGD(learning_rate=schedule,\n",
    "                                    momentum=0.9)\n",
    "\n",
    "if config.train_config.fp16:\n",
    "    optimizer = tf.keras.mixed_precision.experimental.LossScaleOptimizer(optimizer, 'dynamic')"
   ]
  },
  {
   "cell_type": "code",
   "execution_count": 7,
   "metadata": {},
   "outputs": [],
   "source": [
    "model_runner = Runner(model=detector, \n",
    "                      train_cfg=config.train_config, \n",
    "                      test_cfg=config.test_config, \n",
    "                      optimizer=optimizer)"
   ]
  },
  {
   "cell_type": "code",
   "execution_count": 8,
   "metadata": {},
   "outputs": [
    {
     "data": {
      "application/vnd.jupyter.widget-view+json": {
       "model_id": "42fb6c4a944343b7be4746be11a1094f",
       "version_major": 2,
       "version_minor": 0
      },
      "text/plain": [
       "HBox(children=(HTML(value=''), FloatProgress(value=0.0, max=1000.0), HTML(value='')))"
      ]
     },
     "metadata": {},
     "output_type": "display_data"
    },
    {
     "name": "stdout",
     "output_type": "stream",
     "text": [
      "\n"
     ]
    }
   ],
   "source": [
    "pbar = tqdm(range(steps_per_epoch))\n",
    "loss_history = []\n",
    "for step in pbar:\n",
    "    model_outputs = model_runner.train_step(next(train_tdf), \n",
    "                                            sync_weights=step==0, \n",
    "                                            sync_opt=step==0)\n",
    "    loss_history.append(model_outputs['total_loss'].numpy())\n",
    "    loss_rolling_mean = mean(loss_history[-50:])\n",
    "    current_learning_rate = schedule(optimizer.iterations).numpy()\n",
    "    if hvd.rank()==0:\n",
    "        pbar.set_description(\"Loss {0:.4f}, LR: {1:.4f}\".format(loss_rolling_mean, \n",
    "                                                                current_learning_rate))"
   ]
  },
  {
   "cell_type": "code",
   "execution_count": 9,
   "metadata": {},
   "outputs": [
    {
     "data": {
      "application/vnd.jupyter.widget-view+json": {
       "model_id": "3a6e26d27689488492839fd9c4fc82a4",
       "version_major": 2,
       "version_minor": 0
      },
      "text/plain": [
       "HBox(children=(HTML(value=''), FloatProgress(value=0.0, max=251.0), HTML(value='')))"
      ]
     },
     "metadata": {},
     "output_type": "display_data"
    },
    {
     "name": "stdout",
     "output_type": "stream",
     "text": [
      "\n"
     ]
    }
   ],
   "source": [
    "p_bar = tqdm(range(1000//global_batch_size + 1))\n",
    "predictions = [model_runner.predict(next(val_tdf)) for i in p_bar]\n",
    "args = [predictions, model_runner.test_cfg.annotations]"
   ]
  },
  {
   "cell_type": "code",
   "execution_count": 10,
   "metadata": {},
   "outputs": [
    {
     "name": "stdout",
     "output_type": "stream",
     "text": [
      "processing eval\n",
      "100%|██████████| 251/251 [01:31<00:00,  2.75it/s]\n",
      "loading predictions\n",
      "[MaskRCNN] INFO    : 0/100400\n",
      "[MaskRCNN] INFO    : 1000/100400\n",
      "[MaskRCNN] INFO    : 2000/100400\n",
      "[MaskRCNN] INFO    : 3000/100400\n",
      "[MaskRCNN] INFO    : 4000/100400\n",
      "[MaskRCNN] INFO    : 5000/100400\n",
      "[MaskRCNN] INFO    : 6000/100400\n",
      "[MaskRCNN] INFO    : 7000/100400\n",
      "[MaskRCNN] INFO    : 8000/100400\n",
      "[MaskRCNN] INFO    : 9000/100400\n",
      "[MaskRCNN] INFO    : 10000/100400\n",
      "[MaskRCNN] INFO    : 11000/100400\n",
      "[MaskRCNN] INFO    : 12000/100400\n",
      "[MaskRCNN] INFO    : 13000/100400\n",
      "[MaskRCNN] INFO    : 14000/100400\n",
      "[MaskRCNN] INFO    : 15000/100400\n",
      "[MaskRCNN] INFO    : 16000/100400\n",
      "[MaskRCNN] INFO    : 17000/100400\n",
      "[MaskRCNN] INFO    : 18000/100400\n",
      "[MaskRCNN] INFO    : 19000/100400\n",
      "[MaskRCNN] INFO    : 20000/100400\n",
      "[MaskRCNN] INFO    : 21000/100400\n",
      "[MaskRCNN] INFO    : 22000/100400\n",
      "[MaskRCNN] INFO    : 23000/100400\n",
      "[MaskRCNN] INFO    : 24000/100400\n",
      "[MaskRCNN] INFO    : 25000/100400\n",
      "[MaskRCNN] INFO    : 26000/100400\n",
      "[MaskRCNN] INFO    : 27000/100400\n",
      "[MaskRCNN] INFO    : 28000/100400\n",
      "[MaskRCNN] INFO    : 29000/100400\n",
      "[MaskRCNN] INFO    : 30000/100400\n",
      "[MaskRCNN] INFO    : 31000/100400\n",
      "[MaskRCNN] INFO    : 32000/100400\n",
      "[MaskRCNN] INFO    : 33000/100400\n",
      "[MaskRCNN] INFO    : 34000/100400\n",
      "[MaskRCNN] INFO    : 35000/100400\n",
      "[MaskRCNN] INFO    : 36000/100400\n",
      "[MaskRCNN] INFO    : 37000/100400\n",
      "[MaskRCNN] INFO    : 38000/100400\n",
      "[MaskRCNN] INFO    : 39000/100400\n",
      "[MaskRCNN] INFO    : 40000/100400\n",
      "[MaskRCNN] INFO    : 41000/100400\n",
      "[MaskRCNN] INFO    : 42000/100400\n",
      "[MaskRCNN] INFO    : 43000/100400\n",
      "[MaskRCNN] INFO    : 44000/100400\n",
      "[MaskRCNN] INFO    : 45000/100400\n",
      "[MaskRCNN] INFO    : 46000/100400\n",
      "[MaskRCNN] INFO    : 47000/100400\n",
      "[MaskRCNN] INFO    : 48000/100400\n",
      "[MaskRCNN] INFO    : 49000/100400\n",
      "[MaskRCNN] INFO    : 50000/100400\n",
      "[MaskRCNN] INFO    : 51000/100400\n",
      "[MaskRCNN] INFO    : 52000/100400\n",
      "[MaskRCNN] INFO    : 53000/100400\n",
      "[MaskRCNN] INFO    : 54000/100400\n",
      "[MaskRCNN] INFO    : 55000/100400\n",
      "[MaskRCNN] INFO    : 56000/100400\n",
      "[MaskRCNN] INFO    : 57000/100400\n",
      "[MaskRCNN] INFO    : 58000/100400\n",
      "[MaskRCNN] INFO    : 59000/100400\n",
      "[MaskRCNN] INFO    : 60000/100400\n",
      "[MaskRCNN] INFO    : 61000/100400\n",
      "[MaskRCNN] INFO    : 62000/100400\n",
      "[MaskRCNN] INFO    : 63000/100400\n",
      "[MaskRCNN] INFO    : 64000/100400\n",
      "[MaskRCNN] INFO    : 65000/100400\n",
      "[MaskRCNN] INFO    : 66000/100400\n",
      "[MaskRCNN] INFO    : 67000/100400\n",
      "[MaskRCNN] INFO    : 68000/100400\n",
      "[MaskRCNN] INFO    : 69000/100400\n",
      "[MaskRCNN] INFO    : 70000/100400\n",
      "[MaskRCNN] INFO    : 71000/100400\n",
      "[MaskRCNN] INFO    : 72000/100400\n",
      "[MaskRCNN] INFO    : 73000/100400\n",
      "[MaskRCNN] INFO    : 74000/100400\n",
      "[MaskRCNN] INFO    : 75000/100400\n",
      "[MaskRCNN] INFO    : 76000/100400\n",
      "[MaskRCNN] INFO    : 77000/100400\n",
      "[MaskRCNN] INFO    : 78000/100400\n",
      "[MaskRCNN] INFO    : 79000/100400\n",
      "[MaskRCNN] INFO    : 80000/100400\n",
      "[MaskRCNN] INFO    : 81000/100400\n",
      "[MaskRCNN] INFO    : 82000/100400\n",
      "[MaskRCNN] INFO    : 83000/100400\n",
      "[MaskRCNN] INFO    : 84000/100400\n",
      "[MaskRCNN] INFO    : 85000/100400\n",
      "[MaskRCNN] INFO    : 86000/100400\n",
      "[MaskRCNN] INFO    : 87000/100400\n",
      "[MaskRCNN] INFO    : 88000/100400\n",
      "[MaskRCNN] INFO    : 89000/100400\n",
      "[MaskRCNN] INFO    : 90000/100400\n",
      "[MaskRCNN] INFO    : 91000/100400\n",
      "[MaskRCNN] INFO    : 92000/100400\n",
      "[MaskRCNN] INFO    : 93000/100400\n",
      "[MaskRCNN] INFO    : 94000/100400\n",
      "[MaskRCNN] INFO    : 95000/100400\n",
      "[MaskRCNN] INFO    : 96000/100400\n",
      "[MaskRCNN] INFO    : 97000/100400\n",
      "[MaskRCNN] INFO    : 98000/100400\n",
      "[MaskRCNN] INFO    : 99000/100400\n",
      "[MaskRCNN] INFO    : 100000/100400\n",
      "loading annotations into memory...\n",
      "Done (t=0.47s)\n",
      "creating index...\n",
      "Loading and preparing results...\n",
      "DONE (t=0.30s)\n",
      "Running per image evaluation...\n",
      "Evaluate annotation type *bbox*\n",
      "DONE (t=1.10s).\n",
      "Accumulating evaluation results...\n",
      "DONE (t=0.00s).\n",
      " Average Precision  (AP) @[ IoU=0.50:0.95 | area=   all | maxDets=100 ] = 0.00220\n",
      " Average Precision  (AP) @[ IoU=0.50      | area=   all | maxDets=100 ] = 0.00494\n",
      " Average Precision  (AP) @[ IoU=0.75      | area=   all | maxDets=100 ] = 0.00164\n",
      " Average Precision  (AP) @[ IoU=0.50:0.95 | area= small | maxDets=100 ] = 0.00130\n",
      " Average Precision  (AP) @[ IoU=0.50:0.95 | area=medium | maxDets=100 ] = 0.00232\n",
      " Average Precision  (AP) @[ IoU=0.50:0.95 | area= large | maxDets=100 ] = 0.00203\n",
      " Average Recall     (AR) @[ IoU=0.50:0.95 | area=   all | maxDets=  1 ] = 0.00381\n",
      " Average Recall     (AR) @[ IoU=0.50:0.95 | area=   all | maxDets= 10 ] = 0.00779\n",
      " Average Recall     (AR) @[ IoU=0.50:0.95 | area=   all | maxDets=100 ] = 0.00904\n",
      " Average Recall     (AR) @[ IoU=0.50:0.95 | area= small | maxDets=100 ] = 0.00334\n",
      " Average Recall     (AR) @[ IoU=0.50:0.95 | area=medium | maxDets=100 ] = 0.00962\n",
      " Average Recall     (AR) @[ IoU=0.50:0.95 | area= large | maxDets=100 ] = 0.01120\n",
      "loading annotations into memory...\n",
      "Done (t=1.04s)\n",
      "creating index...\n",
      "Loading and preparing results...\n",
      "DONE (t=1.34s)\n",
      "Running per image evaluation...\n",
      "Evaluate annotation type *segm*\n",
      "DONE (t=1.63s).\n",
      "Accumulating evaluation results...\n",
      "DONE (t=0.00s).\n",
      " Average Precision  (AP) @[ IoU=0.50:0.95 | area=   all | maxDets=100 ] = 0.00183\n",
      " Average Precision  (AP) @[ IoU=0.50      | area=   all | maxDets=100 ] = 0.00401\n",
      " Average Precision  (AP) @[ IoU=0.75      | area=   all | maxDets=100 ] = 0.00148\n",
      " Average Precision  (AP) @[ IoU=0.50:0.95 | area= small | maxDets=100 ] = 0.00104\n",
      " Average Precision  (AP) @[ IoU=0.50:0.95 | area=medium | maxDets=100 ] = 0.00173\n",
      " Average Precision  (AP) @[ IoU=0.50:0.95 | area= large | maxDets=100 ] = 0.00206\n",
      " Average Recall     (AR) @[ IoU=0.50:0.95 | area=   all | maxDets=  1 ] = 0.00306\n",
      " Average Recall     (AR) @[ IoU=0.50:0.95 | area=   all | maxDets= 10 ] = 0.00579\n",
      " Average Recall     (AR) @[ IoU=0.50:0.95 | area=   all | maxDets=100 ] = 0.00638\n",
      " Average Recall     (AR) @[ IoU=0.50:0.95 | area= small | maxDets=100 ] = 0.00283\n",
      " Average Recall     (AR) @[ IoU=0.50:0.95 | area=medium | maxDets=100 ] = 0.00684\n",
      " Average Recall     (AR) @[ IoU=0.50:0.95 | area= large | maxDets=100 ] = 0.00708\n"
     ]
    }
   ],
   "source": [
    "if model_runner.test_cfg.async_eval and hvd.rank()==0:\n",
    "    eval_thread = threading.Thread(target=evaluation.evaluate_results, name=\"eval-thread\", args=args)\n",
    "    eval_thread.start()\n",
    "else:\n",
    "    evaluation.evaluate_results(*args, pbar=True)\n",
    "    "
   ]
  },
  {
   "cell_type": "code",
   "execution_count": null,
   "metadata": {},
   "outputs": [],
   "source": [
    "to_binary = lambda array, size: tf.math.mod(tf.bitwise.right_shift(tf.expand_dims(array,-1), tf.range(size)), 2)"
   ]
  }
 ],
 "metadata": {
  "kernelspec": {
   "display_name": "Python 3",
   "language": "python",
   "name": "python3"
  },
  "language_info": {
   "codemirror_mode": {
    "name": "ipython",
    "version": 3
   },
   "file_extension": ".py",
   "mimetype": "text/x-python",
   "name": "python",
   "nbconvert_exporter": "python",
   "pygments_lexer": "ipython3",
   "version": "3.7.7"
  }
 },
 "nbformat": 4,
 "nbformat_minor": 4
}

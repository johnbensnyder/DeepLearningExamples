{
 "cells": [
  {
   "cell_type": "code",
   "execution_count": 1,
   "metadata": {},
   "outputs": [],
   "source": [
    "import sys\n",
    "sys.path.append('..')\n",
    "# from awsdet.models.backbones import resnet\n",
    "# from awsdet.models.builder import build_backbone\n",
    "from awsdet import models\n",
    "from awsdet import datasets\n",
    "from awsdet import core\n",
    "from awsdet import training\n",
    "from awsdet.training.schedulers import WarmupScheduler\n",
    "#from configs.mask_rcnn_params import default_config\n",
    "from configs.mrcnn_config import config\n",
    "import tensorflow as tf\n",
    "\n",
    "import horovod.tensorflow as hvd\n",
    "hvd.init()\n",
    "\n",
    "devices = tf.config.list_physical_devices('GPU')\n",
    "tf.config.set_visible_devices([devices[hvd.rank()]], 'GPU')\n",
    "logical_devices = tf.config.list_logical_devices('GPU')\n",
    "tf.config.optimizer.set_experimental_options({\"auto_mixed_precision\": True})\n",
    "tf.config.optimizer.set_jit(True)"
   ]
  },
  {
   "cell_type": "code",
   "execution_count": 2,
   "metadata": {},
   "outputs": [],
   "source": [
    "detector = models.TwoStageDetector(backbone=config.backbone_cfg,\n",
    "                                   neck=config.fpn_cfg,\n",
    "                                   rpn_head=config.rpn_head_cfg,\n",
    "                                   roi_head=config.roi_head_cfg,\n",
    "                                   train_cfg=config.train_config)"
   ]
  },
  {
   "cell_type": "code",
   "execution_count": 3,
   "metadata": {},
   "outputs": [
    {
     "name": "stdout",
     "output_type": "stream",
     "text": [
      "WARNING:tensorflow:From /usr/local/lib/python3.7/site-packages/tensorflow/python/util/deprecation.py:574: calling map_fn_v2 (from tensorflow.python.ops.map_fn) with dtype is deprecated and will be removed in a future version.\n",
      "Instructions for updating:\n",
      "Use fn_output_signature instead\n"
     ]
    }
   ],
   "source": [
    "train_tdf = iter(datasets.build_dataset(config.train_data)().repeat())"
   ]
  },
  {
   "cell_type": "code",
   "execution_count": 4,
   "metadata": {},
   "outputs": [
    {
     "name": "stdout",
     "output_type": "stream",
     "text": [
      "[2021-01-12 20:19:10.998 ip-172-31-38-50:272 INFO utils.py:27] RULE_JOB_STOP_SIGNAL_FILENAME: None\n",
      "[2021-01-12 20:19:11.367 ip-172-31-38-50:272 INFO profiler_config_parser.py:102] Unable to find config at /opt/ml/input/config/profilerconfig.json. Profiler is disabled.\n"
     ]
    }
   ],
   "source": [
    "result = detector(next(train_tdf)[0], training=False)"
   ]
  },
  {
   "cell_type": "code",
   "execution_count": 6,
   "metadata": {},
   "outputs": [],
   "source": [
    "chkp = tf.compat.v1.train.NewCheckpointReader(config.backbone_checkpoint)\n",
    "weights = [chkp.get_tensor(i) for i in ['/'.join(i.name.split('/')[-2:]).split(':')[0] for i in detector.layers[0].weights]]\n",
    "detector.layers[0].set_weights(weights)"
   ]
  },
  {
   "cell_type": "code",
   "execution_count": 7,
   "metadata": {},
   "outputs": [],
   "source": [
    "features, labels = next(train_tdf)\n",
    "\n",
    "result = detector(features, labels, training=True)"
   ]
  },
  {
   "cell_type": "code",
   "execution_count": 8,
   "metadata": {},
   "outputs": [
    {
     "data": {
      "text/plain": [
       "dict_keys(['class_outputs', 'box_outputs', 'class_targets', 'box_targets', 'box_rois', 'total_loss_bbox', 'class_loss', 'box_loss', 'mask_outputs', 'mask_targets', 'selected_class_targets', 'mask_loss', 'total_rpn_loss', 'rpn_score_loss', 'rpn_box_loss'])"
      ]
     },
     "execution_count": 8,
     "metadata": {},
     "output_type": "execute_result"
    }
   ],
   "source": [
    "result.keys()"
   ]
  },
  {
   "cell_type": "code",
   "execution_count": 9,
   "metadata": {},
   "outputs": [],
   "source": [
    "schedule = tf.keras.optimizers.schedules.PiecewiseConstantDecay([100000, 200000],\n",
    "                                                                [0.005, 0.0005, 0.00005])\n",
    "\n",
    "schedule = WarmupScheduler(schedule, 0.0005, 1000)\n",
    "\n",
    "optimizer = tf.keras.optimizers.SGD(learning_rate=schedule,\n",
    "                                    momentum=0.9)\n",
    "optimizer = tf.keras.mixed_precision.experimental.LossScaleOptimizer(optimizer, 'dynamic')"
   ]
  },
  {
   "cell_type": "code",
   "execution_count": 10,
   "metadata": {},
   "outputs": [],
   "source": [
    "features, labels = next(train_tdf)\n",
    "loss = detector.train_step(features, labels, optimizer, fp16=True)"
   ]
  },
  {
   "cell_type": "code",
   "execution_count": 11,
   "metadata": {},
   "outputs": [
    {
     "data": {
      "text/plain": [
       "{'bbox_loss': <tf.Tensor: shape=(), dtype=float32, numpy=4.6802087>,\n",
       " 'mask_loss': <tf.Tensor: shape=(), dtype=float32, numpy=1.365921>,\n",
       " 'rpn_loss': <tf.Tensor: shape=(), dtype=float32, numpy=2.9666545>,\n",
       " 'l2_regularization_loss': <tf.Tensor: shape=(), dtype=float32, numpy=0.70246184>,\n",
       " 'total_loss': <tf.Tensor: shape=(), dtype=float32, numpy=9.715246>}"
      ]
     },
     "execution_count": 11,
     "metadata": {},
     "output_type": "execute_result"
    }
   ],
   "source": [
    "loss"
   ]
  },
  {
   "cell_type": "code",
   "execution_count": 12,
   "metadata": {},
   "outputs": [],
   "source": [
    "from tqdm.notebook import tqdm\n",
    "from statistics import mean"
   ]
  },
  {
   "cell_type": "code",
   "execution_count": 13,
   "metadata": {},
   "outputs": [
    {
     "data": {
      "application/vnd.jupyter.widget-view+json": {
       "model_id": "806c404b75c249ea9b2e3b53a28d5f7f",
       "version_major": 2,
       "version_minor": 0
      },
      "text/plain": [
       "HBox(children=(HTML(value=''), FloatProgress(value=0.0, max=25000.0), HTML(value='')))"
      ]
     },
     "metadata": {},
     "output_type": "display_data"
    },
    {
     "name": "stdout",
     "output_type": "stream",
     "text": [
      "\n"
     ]
    }
   ],
   "source": [
    "pbar = tqdm(range(25000))\n",
    "loss_history = []\n",
    "for i in pbar:\n",
    "    features, labels = next(train_tdf)\n",
    "    loss = detector.train_step(features, labels, optimizer, fp16=True)\n",
    "    loss_history.append(loss['total_loss'].numpy())\n",
    "    loss_mean = mean(loss_history[-50:])\n",
    "    pbar.set_description(\"Loss: {0:.4f}\".format(loss_mean))"
   ]
  },
  {
   "cell_type": "code",
   "execution_count": null,
   "metadata": {},
   "outputs": [],
   "source": []
  },
  {
   "cell_type": "code",
   "execution_count": null,
   "metadata": {},
   "outputs": [],
   "source": []
  },
  {
   "cell_type": "code",
   "execution_count": null,
   "metadata": {},
   "outputs": [],
   "source": []
  },
  {
   "cell_type": "code",
   "execution_count": null,
   "metadata": {},
   "outputs": [],
   "source": []
  },
  {
   "cell_type": "code",
   "execution_count": 2,
   "metadata": {},
   "outputs": [
    {
     "name": "stdout",
     "output_type": "stream",
     "text": [
      "WARNING:tensorflow:From /usr/local/lib/python3.7/site-packages/tensorflow/python/util/deprecation.py:574: calling map_fn_v2 (from tensorflow.python.ops.map_fn) with dtype is deprecated and will be removed in a future version.\n",
      "Instructions for updating:\n",
      "Use fn_output_signature instead\n"
     ]
    }
   ],
   "source": [
    "backbone = models.build_backbone(config.backbone_cfg)\n",
    "fpn = models.build_neck(config.fpn_cfg)\n",
    "train_tdf = iter(datasets.build_dataset(config.train_data)().repeat())\n",
    "#anchors = core.build_anchors(anchor_cfg)\n",
    "#rpn_loss = training.build_loss(rpn_loss_cfg)\n",
    "rpn_head = models.build_head(config.rpn_head_cfg)\n",
    "roi_head = models.build_head(config.roi_head_cfg)"
   ]
  },
  {
   "cell_type": "code",
   "execution_count": 3,
   "metadata": {},
   "outputs": [
    {
     "name": "stdout",
     "output_type": "stream",
     "text": [
      "[2021-01-12 15:39:14.551 ip-172-31-38-50:16265 INFO utils.py:27] RULE_JOB_STOP_SIGNAL_FILENAME: None\n",
      "[2021-01-12 15:39:14.709 ip-172-31-38-50:16265 INFO profiler_config_parser.py:102] Unable to find config at /opt/ml/input/config/profilerconfig.json. Profiler is disabled.\n"
     ]
    }
   ],
   "source": [
    "result = backbone(next(train_tdf)[0]['images'])"
   ]
  },
  {
   "cell_type": "code",
   "execution_count": 4,
   "metadata": {},
   "outputs": [],
   "source": [
    "chkp = tf.compat.v1.train.NewCheckpointReader(config.backbone_checkpoint)\n",
    "weights = [chkp.get_tensor(i) for i in ['/'.join(i.name.split('/')[-2:]).split(':')[0] for i in backbone.weights]]\n",
    "backbone.set_weights(weights)"
   ]
  },
  {
   "cell_type": "code",
   "execution_count": 5,
   "metadata": {},
   "outputs": [],
   "source": [
    "features, labels = next(train_tdf)\n",
    "backbone_maps = backbone(features['images'])\n",
    "fpn_maps = fpn(backbone_maps)\n",
    "scores_outputs, box_outputs, proposals = rpn_head(fpn_maps, features['image_info'], training=True)\n",
    "#scores_outputs, box_outputs, proposals = rpn_head(pmaps, features['image_info'], gt_boxes=None, gt_labels=None, training=False)"
   ]
  },
  {
   "cell_type": "code",
   "execution_count": 6,
   "metadata": {},
   "outputs": [
    {
     "data": {
      "text/plain": [
       "dict_keys(['flat_gt_masks', 'cropped_gt_masks', 'score_targets_2', 'box_targets_2', 'score_targets_3', 'box_targets_3', 'score_targets_4', 'box_targets_4', 'score_targets_5', 'box_targets_5', 'score_targets_6', 'box_targets_6', 'gt_boxes', 'gt_classes'])"
      ]
     },
     "execution_count": 6,
     "metadata": {},
     "output_type": "execute_result"
    }
   ],
   "source": [
    "labels.keys()"
   ]
  },
  {
   "cell_type": "code",
   "execution_count": 7,
   "metadata": {},
   "outputs": [],
   "source": [
    "model_outputs = roi_head(fpn_maps, features['image_info'], proposals[0], \n",
    "                 gt_bboxes=labels['gt_boxes'], gt_labels=labels['gt_classes'],\n",
    "                 gt_masks=labels['cropped_gt_masks'])"
   ]
  },
  {
   "cell_type": "code",
   "execution_count": 9,
   "metadata": {},
   "outputs": [
    {
     "data": {
      "text/plain": [
       "dict_keys(['class_outputs', 'box_outputs', 'class_targets', 'box_targets', 'box_rois', 'total_loss_bbox', 'class_loss', 'box_loss', 'mask_outputs', 'mask_targets', 'selected_class_targets', 'mask_loss'])"
      ]
     },
     "execution_count": 9,
     "metadata": {},
     "output_type": "execute_result"
    }
   ],
   "source": [
    "model_outputs.keys()"
   ]
  },
  {
   "cell_type": "code",
   "execution_count": 10,
   "metadata": {},
   "outputs": [
    {
     "data": {
      "text/plain": [
       "<tf.Tensor: shape=(), dtype=float32, numpy=5.3265376>"
      ]
     },
     "execution_count": 10,
     "metadata": {},
     "output_type": "execute_result"
    }
   ],
   "source": [
    "model_outputs['total_loss_bbox']"
   ]
  },
  {
   "cell_type": "code",
   "execution_count": 11,
   "metadata": {},
   "outputs": [
    {
     "data": {
      "text/plain": [
       "<tf.Tensor: shape=(), dtype=float32, numpy=0.9917703>"
      ]
     },
     "execution_count": 11,
     "metadata": {},
     "output_type": "execute_result"
    }
   ],
   "source": [
    "model_outputs['mask_loss']"
   ]
  },
  {
   "cell_type": "code",
   "execution_count": 43,
   "metadata": {},
   "outputs": [],
   "source": [
    "features, labels = next(train_tdf)"
   ]
  },
  {
   "cell_type": "code",
   "execution_count": 44,
   "metadata": {},
   "outputs": [],
   "source": [
    "_ = model(features)"
   ]
  },
  {
   "cell_type": "code",
   "execution_count": 45,
   "metadata": {},
   "outputs": [],
   "source": [
    "chkp = tf.compat.v1.train.NewCheckpointReader(config.backbone_checkpoint)\n",
    "weights = [chkp.get_tensor(i) for i in ['/'.join(i.name.split('/')[-2:]).split(':')[0] for i in backbone.weights]]\n",
    "model.layers[0].set_weights(weights)"
   ]
  },
  {
   "cell_type": "code",
   "execution_count": 46,
   "metadata": {},
   "outputs": [],
   "source": [
    "features, labels = next(train_tdf)"
   ]
  },
  {
   "cell_type": "code",
   "execution_count": 47,
   "metadata": {},
   "outputs": [],
   "source": [
    "loss, _ = model.forward_train(features, labels)"
   ]
  },
  {
   "cell_type": "code",
   "execution_count": 48,
   "metadata": {},
   "outputs": [],
   "source": [
    "@tf.function\n",
    "def train_step(model, features, labels, opt):\n",
    "    with tf.GradientTape() as tape:\n",
    "        loss, _ = model.forward_train(features, labels)\n",
    "    gradients = tape.gradient(loss, model.trainable_variables)\n",
    "    opt.apply_gradients(zip(gradients, model.trainable_variables))\n",
    "    return loss"
   ]
  },
  {
   "cell_type": "code",
   "execution_count": 49,
   "metadata": {},
   "outputs": [],
   "source": [
    "from tqdm.notebook import tqdm\n",
    "from statistics import mean"
   ]
  },
  {
   "cell_type": "code",
   "execution_count": 52,
   "metadata": {},
   "outputs": [
    {
     "data": {
      "application/vnd.jupyter.widget-view+json": {
       "model_id": "6965654bbd70478f85bbd9fbb6c4aebb",
       "version_major": 2,
       "version_minor": 0
      },
      "text/plain": [
       "HBox(children=(HTML(value=''), FloatProgress(value=0.0, max=25000.0), HTML(value='')))"
      ]
     },
     "metadata": {},
     "output_type": "display_data"
    },
    {
     "name": "stdout",
     "output_type": "stream",
     "text": [
      "\n"
     ]
    }
   ],
   "source": [
    "pbar = tqdm(range(25000))\n",
    "loss_history = []\n",
    "for i in pbar:\n",
    "    features, labels = next(train_tdf)\n",
    "    loss = train_step(model, features, labels, optimizer)\n",
    "    loss_history.append(loss[0].numpy())\n",
    "    pbar.set_description(\"Loss: {0:.5f}\".format(mean(loss_history[-50:])))"
   ]
  },
  {
   "cell_type": "code",
   "execution_count": 35,
   "metadata": {},
   "outputs": [
    {
     "data": {
      "text/plain": [
       "(<tf.Tensor: shape=(), dtype=float32, numpy=0.7070601>,\n",
       " <tf.Tensor: shape=(), dtype=float32, numpy=0.6845154>,\n",
       " <tf.Tensor: shape=(), dtype=float32, numpy=0.02254466>)"
      ]
     },
     "execution_count": 35,
     "metadata": {},
     "output_type": "execute_result"
    }
   ],
   "source": [
    "loss"
   ]
  },
  {
   "cell_type": "code",
   "execution_count": 2,
   "metadata": {},
   "outputs": [],
   "source": []
  },
  {
   "cell_type": "code",
   "execution_count": null,
   "metadata": {},
   "outputs": [],
   "source": []
  }
 ],
 "metadata": {
  "kernelspec": {
   "display_name": "Python 3",
   "language": "python",
   "name": "python3"
  },
  "language_info": {
   "codemirror_mode": {
    "name": "ipython",
    "version": 3
   },
   "file_extension": ".py",
   "mimetype": "text/x-python",
   "name": "python",
   "nbconvert_exporter": "python",
   "pygments_lexer": "ipython3",
   "version": "3.7.7"
  }
 },
 "nbformat": 4,
 "nbformat_minor": 4
}

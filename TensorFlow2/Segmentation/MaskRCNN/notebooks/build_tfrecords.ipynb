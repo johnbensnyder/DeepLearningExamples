{
 "cells": [
  {
   "cell_type": "code",
   "execution_count": 1,
   "metadata": {},
   "outputs": [],
   "source": [
    "import tensorflow as tf\n",
    "import contextlib2\n",
    "import json\n",
    "import logging\n",
    "import sys\n",
    "import os\n",
    "sys.path.append('..')\n",
    "from mask_rcnn.anchors import Anchors, AnchorLabeler\n",
    "from mask_rcnn.hyperparameters.dataset_params import get_data_params\n",
    "from mask_rcnn import dataset_utils\n",
    "import matplotlib.pyplot as plt\n",
    "from pycocotools import mask\n",
    "import numpy as np\n",
    "from tqdm.notebook import tqdm"
   ]
  },
  {
   "cell_type": "code",
   "execution_count": 9,
   "metadata": {},
   "outputs": [],
   "source": [
    "logger = tf.get_logger()\n",
    "logger.setLevel(logging.INFO)\n",
    "train_dir = '/workspace/shared_workspace/data/coco/train2017/'\n",
    "train_annotations_file = '/workspace/shared_workspace/data/coco/annotations/instances_train2017.json'\n",
    "dataset_params = get_data_params()\n",
    "dataset_params['image_size'] = (832, 1344)\n",
    "output_path = '/workspace/shared_workspace/data/coco/tf_record/train-coco'\n",
    "shards = 1024"
   ]
  },
  {
   "cell_type": "code",
   "execution_count": 5,
   "metadata": {},
   "outputs": [],
   "source": [
    "images, category_index, annotations_index = dataset_utils.parse_annotations(train_annotations_file)\n",
    "image_preprocess = dataset_utils.PreprocessDataset(dataset_params, train_dir)"
   ]
  },
  {
   "cell_type": "code",
   "execution_count": 10,
   "metadata": {},
   "outputs": [
    {
     "data": {
      "application/vnd.jupyter.widget-view+json": {
       "model_id": "bec2ac78322b440da83735ddcb484cbf",
       "version_major": 2,
       "version_minor": 0
      },
      "text/plain": [
       "HBox(children=(FloatProgress(value=0.0, max=118287.0), HTML(value='')))"
      ]
     },
     "metadata": {},
     "output_type": "display_data"
    },
    {
     "name": "stdout",
     "output_type": "stream",
     "text": [
      "\n"
     ]
    }
   ],
   "source": [
    "with contextlib2.ExitStack() as tf_record_close_stack:\n",
    "    output_tfrecords = dataset_utils.open_sharded_output_tfrecords(\n",
    "        tf_record_close_stack, output_path, shards)\n",
    "    images_count = 0\n",
    "    for idx in tqdm(range(len(images))):\n",
    "        example, shape = dataset_utils.create_record(idx, images, \n",
    "                                                     annotations_index, image_preprocess)\n",
    "        if example:\n",
    "            shard_idx = images_count % shards\n",
    "            output_tfrecords[shard_idx].write(example.SerializeToString())\n",
    "            images_count += 1"
   ]
  },
  {
   "cell_type": "code",
   "execution_count": null,
   "metadata": {},
   "outputs": [],
   "source": []
  }
 ],
 "metadata": {
  "kernelspec": {
   "display_name": "Python 3",
   "language": "python",
   "name": "python3"
  },
  "language_info": {
   "codemirror_mode": {
    "name": "ipython",
    "version": 3
   },
   "file_extension": ".py",
   "mimetype": "text/x-python",
   "name": "python",
   "nbconvert_exporter": "python",
   "pygments_lexer": "ipython3",
   "version": "3.6.9"
  }
 },
 "nbformat": 4,
 "nbformat_minor": 4
}

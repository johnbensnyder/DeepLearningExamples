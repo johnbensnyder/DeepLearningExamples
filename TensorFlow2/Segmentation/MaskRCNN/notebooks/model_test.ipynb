{
 "cells": [
  {
   "cell_type": "code",
   "execution_count": 1,
   "metadata": {},
   "outputs": [],
   "source": [
    "import numpy as np\n",
    "import tensorflow as tf\n",
    "from tensorflow.keras.mixed_precision import experimental as mixed_precision\n",
    "import sys\n",
    "import os\n",
    "from tqdm.notebook import tqdm\n",
    "sys.path.append('..')\n",
    "from mask_rcnn import dataloader\n",
    "from mask_rcnn.hyperparameters import mask_rcnn_params\n",
    "from mask_rcnn.hyperparameters import dataset_params\n",
    "from mask_rcnn import tf2_model\n",
    "from mask_rcnn import mask_only\n",
    "from mask_rcnn.training import losses"
   ]
  },
  {
   "cell_type": "code",
   "execution_count": 2,
   "metadata": {},
   "outputs": [],
   "source": [
    "#os.environ['TF_XLA_FLAGS'] = \"--tf_xla_auto_jit=fusible\"\n",
    "tf.config.optimizer.set_experimental_options({\"auto_mixed_precision\": True})"
   ]
  },
  {
   "cell_type": "code",
   "execution_count": 3,
   "metadata": {},
   "outputs": [],
   "source": [
    "data_params = dataset_params.get_data_params()\n",
    "data_params['image_size'] = [832, 1344]\n",
    "model_params = mask_rcnn_params.default_config().values()\n",
    "model_params['finetune_bn'] = False\n",
    "model_params['use_batched_nms'] = True\n",
    "model_params['train_batch_size'] = data_params['batch_size']\n",
    "model_params['l2_weight_decay'] = 1e-4\n",
    "model_params['include_mask'] = True\n",
    "train_data = '/workspace/shared_workspace/data/coco/train*'"
   ]
  },
  {
   "cell_type": "code",
   "execution_count": 4,
   "metadata": {},
   "outputs": [
    {
     "name": "stdout",
     "output_type": "stream",
     "text": [
      "WARNING:tensorflow:The operation `tf.image.convert_image_dtype` will be skipped since the input and output dtypes are identical.\n",
      "WARNING:tensorflow:The operation `tf.image.convert_image_dtype` will be skipped since the input and output dtypes are identical.\n",
      "WARNING:tensorflow:The operation `tf.image.convert_image_dtype` will be skipped since the input and output dtypes are identical.\n",
      "WARNING:tensorflow:The operation `tf.image.convert_image_dtype` will be skipped since the input and output dtypes are identical.\n"
     ]
    }
   ],
   "source": [
    "data = dataloader.InputReader(train_data, use_instance_mask=True)\n",
    "train_tdf = data(data_params)"
   ]
  },
  {
   "cell_type": "code",
   "execution_count": 5,
   "metadata": {},
   "outputs": [],
   "source": [
    "model = tf2_model.MaskRCNN(model_params)\n",
    "#model = mask_only.MaskRCNN(model_params)"
   ]
  },
  {
   "cell_type": "code",
   "execution_count": 6,
   "metadata": {},
   "outputs": [],
   "source": [
    "train_gen = iter(train_tdf.prefetch(128))"
   ]
  },
  {
   "cell_type": "code",
   "execution_count": 7,
   "metadata": {},
   "outputs": [],
   "source": [
    "features, labels = next(train_gen)"
   ]
  },
  {
   "cell_type": "code",
   "execution_count": 8,
   "metadata": {},
   "outputs": [],
   "source": [
    "optimizer = tf.keras.optimizers.SGD(learning_rate=0.001, momentum=0.9)\n",
    "optimizer = mixed_precision.LossScaleOptimizer(optimizer, loss_scale='dynamic')"
   ]
  },
  {
   "cell_type": "code",
   "execution_count": 9,
   "metadata": {},
   "outputs": [],
   "source": [
    "@tf.function\n",
    "def train_step(features, labels, params):\n",
    "    with tf.GradientTape() as tape:\n",
    "        model_outputs = model(features, labels)\n",
    "        # rpn loss\n",
    "        total_rpn_loss, rpn_score_loss, rpn_box_loss = losses.rpn_loss(\n",
    "            score_outputs=model_outputs['rpn_score_outputs'],\n",
    "            box_outputs=model_outputs['rpn_box_outputs'],\n",
    "            labels=labels,\n",
    "            params=model_params\n",
    "        )\n",
    "        # frcnn loss\n",
    "        total_fast_rcnn_loss, fast_rcnn_class_loss, fast_rcnn_box_loss = losses.fast_rcnn_loss(\n",
    "            class_outputs=model_outputs['class_outputs'],\n",
    "            box_outputs=model_outputs['box_outputs'],\n",
    "            class_targets=model_outputs['class_targets'],\n",
    "            box_targets=model_outputs['box_targets'],\n",
    "            params=model_params\n",
    "        )\n",
    "        '''total_fast_rcnn_loss = 0\n",
    "        fast_rcnn_class_loss = 0\n",
    "        fast_rcnn_box_loss = 0'''\n",
    "        # mask loss\n",
    "        if params['include_mask']:\n",
    "            mask_loss = losses.mask_rcnn_loss(\n",
    "                mask_outputs=model_outputs['mask_outputs'],\n",
    "                mask_targets=model_outputs['mask_targets'],\n",
    "                select_class_targets=model_outputs['selected_class_targets'],\n",
    "                params=model_params\n",
    "            )\n",
    "        else:\n",
    "            mask_loss = 0\n",
    "        # l2 decay\n",
    "        trainable_variables = model.trainable_variables\n",
    "        l2_regularization_loss = model_params['l2_weight_decay'] * tf.add_n([\n",
    "            tf.nn.l2_loss(v)\n",
    "            for v in trainable_variables\n",
    "            if not any([pattern in v.name for pattern in [\"batch_normalization\", \"bias\", \"beta\"]])\n",
    "        ])\n",
    "        total_loss = total_rpn_loss + total_fast_rcnn_loss + mask_loss + l2_regularization_loss\n",
    "        scaled_loss = optimizer.get_scaled_loss(total_loss)\n",
    "    scaled_gradients = tape.gradient(scaled_loss, model.trainable_variables)\n",
    "    gradients = optimizer.get_unscaled_gradients(scaled_gradients)\n",
    "    optimizer.apply_gradients(zip(gradients, model.trainable_variables))\n",
    "    return total_loss"
   ]
  },
  {
   "cell_type": "code",
   "execution_count": 10,
   "metadata": {},
   "outputs": [
    {
     "data": {
      "text/plain": [
       "<tf.Tensor: shape=(), dtype=float32, numpy=7.717145>"
      ]
     },
     "execution_count": 10,
     "metadata": {},
     "output_type": "execute_result"
    }
   ],
   "source": [
    "train_step(features, labels, model_params)"
   ]
  },
  {
   "cell_type": "code",
   "execution_count": 11,
   "metadata": {},
   "outputs": [
    {
     "data": {
      "application/vnd.jupyter.widget-view+json": {
       "model_id": "7c0b75158fb043e2b0820c8fdb685074",
       "version_major": 2,
       "version_minor": 0
      },
      "text/plain": [
       "HBox(children=(FloatProgress(value=0.0, max=64.0), HTML(value='')))"
      ]
     },
     "metadata": {},
     "output_type": "display_data"
    },
    {
     "name": "stdout",
     "output_type": "stream",
     "text": [
      "\n"
     ]
    }
   ],
   "source": [
    "features = {}\n",
    "labels = {}\n",
    "for i in tqdm(range(64)):\n",
    "    features[i], labels[i] = next(train_gen)"
   ]
  },
  {
   "cell_type": "code",
   "execution_count": 12,
   "metadata": {},
   "outputs": [
    {
     "data": {
      "application/vnd.jupyter.widget-view+json": {
       "model_id": "3c39b706587440df8e064d916f5f1048",
       "version_major": 2,
       "version_minor": 0
      },
      "text/plain": [
       "HBox(children=(FloatProgress(value=0.0, max=64.0), HTML(value='')))"
      ]
     },
     "metadata": {},
     "output_type": "display_data"
    },
    {
     "name": "stdout",
     "output_type": "stream",
     "text": [
      "\n"
     ]
    }
   ],
   "source": [
    "progressbar = tqdm(range(64))\n",
    "loss_history = []\n",
    "for i in progressbar:\n",
    "    #features, labels = next(train_gen)\n",
    "    loss = train_step(features[i], labels[i], model_params)\n",
    "    loss_history.append(loss.numpy())\n",
    "    progressbar.set_description(\"Loss: {0:.4f}\".format(np.array(loss_history[-50:]).mean()))"
   ]
  },
  {
   "cell_type": "code",
   "execution_count": 13,
   "metadata": {},
   "outputs": [
    {
     "data": {
      "application/vnd.jupyter.widget-view+json": {
       "model_id": "cb6c4ad668c44d7d9db7e0197a628fc1",
       "version_major": 2,
       "version_minor": 0
      },
      "text/plain": [
       "HBox(children=(FloatProgress(value=0.0, max=64.0), HTML(value='')))"
      ]
     },
     "metadata": {},
     "output_type": "display_data"
    },
    {
     "name": "stdout",
     "output_type": "stream",
     "text": [
      "\n"
     ]
    }
   ],
   "source": [
    "progressbar = tqdm(range(64))\n",
    "loss_history = []\n",
    "tf.profiler.experimental.start('/workspace/shared_workspace/logs/single_batch/full_xla_off')\n",
    "for i in progressbar:\n",
    "    #features, labels = next(train_gen)\n",
    "    loss = train_step(features[i], labels[i], model_params)\n",
    "    loss_history.append(loss.numpy())\n",
    "    progressbar.set_description(\"Loss: {0:.4f}\".format(np.array(loss_history[-50:]).mean()))\n",
    "tf.profiler.experimental.stop()"
   ]
  },
  {
   "cell_type": "code",
   "execution_count": null,
   "metadata": {},
   "outputs": [],
   "source": []
  },
  {
   "cell_type": "code",
   "execution_count": 14,
   "metadata": {},
   "outputs": [
    {
     "data": {
      "text/plain": [
       "7776"
      ]
     },
     "execution_count": 14,
     "metadata": {},
     "output_type": "execute_result"
    }
   ],
   "source": [
    "432*18"
   ]
  },
  {
   "cell_type": "code",
   "execution_count": 15,
   "metadata": {},
   "outputs": [
    {
     "data": {
      "text/plain": [
       "460.9375"
      ]
     },
     "execution_count": 15,
     "metadata": {},
     "output_type": "execute_result"
    }
   ],
   "source": [
    "118000/256"
   ]
  },
  {
   "cell_type": "code",
   "execution_count": null,
   "metadata": {},
   "outputs": [],
   "source": []
  }
 ],
 "metadata": {
  "kernelspec": {
   "display_name": "Python 3",
   "language": "python",
   "name": "python3"
  },
  "language_info": {
   "codemirror_mode": {
    "name": "ipython",
    "version": 3
   },
   "file_extension": ".py",
   "mimetype": "text/x-python",
   "name": "python",
   "nbconvert_exporter": "python",
   "pygments_lexer": "ipython3",
   "version": "3.6.9"
  }
 },
 "nbformat": 4,
 "nbformat_minor": 4
}

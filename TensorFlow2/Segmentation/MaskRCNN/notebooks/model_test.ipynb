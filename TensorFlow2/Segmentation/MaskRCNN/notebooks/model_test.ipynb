{
 "cells": [
  {
   "cell_type": "code",
   "execution_count": null,
   "metadata": {
    "tags": []
   },
   "outputs": [],
   "source": [
    "import os\n",
    "import numpy as np\n",
    "import tensorflow as tf\n",
    "from tensorflow.keras.mixed_precision import experimental as mixed_precision\n",
    "import sys\n",
    "import datetime\n",
    "\n",
    "from tqdm.notebook import tqdm\n",
    "sys.path.append('..')\n",
    "from mask_rcnn import dataloader\n",
    "from mask_rcnn.hyperparameters import mask_rcnn_params\n",
    "from mask_rcnn.hyperparameters import dataset_params\n",
    "from mask_rcnn import tf2_model\n",
    "#from mask_rcnn import mask_only\n",
    "from mask_rcnn.training import losses\n",
    "print(f\"TF version is {tf.__version__} located at {tf.__file__}\")\n"
   ]
  },
  {
   "cell_type": "code",
   "execution_count": null,
   "metadata": {},
   "outputs": [],
   "source": [
    "os.environ['TF_XLA_FLAGS'] = \"--tf_xla_auto_jit=fusible  --tf_xla_min_cluster_size=4\"\n",
    "os.environ['TF_XLA_FLAGS'] = \"--tf_xla_auto_jit=fusible\"\n",
    "tf.config.optimizer.set_experimental_options({\"auto_mixed_precision\": True})"
   ]
  },
  {
   "cell_type": "code",
   "execution_count": null,
   "metadata": {},
   "outputs": [],
   "source": [
    "data_params = dataset_params.get_data_params()\n",
    "data_params['image_size'] = [832, 1344]\n",
    "model_params = mask_rcnn_params.default_config().values()\n",
    "model_params['finetune_bn'] = False\n",
    "model_params['use_batched_nms'] = True\n",
    "model_params['train_batch_size'] = data_params['batch_size']\n",
    "model_params['l2_weight_decay'] = 1e-4\n",
    "model_params['include_mask'] = True\n",
    "train_data = '/Datasets_local/coco/coco-2017/coco2017-TFRecords/train*'"
   ]
  },
  {
   "cell_type": "code",
   "execution_count": null,
   "metadata": {
    "tags": []
   },
   "outputs": [],
   "source": [
    "data = dataloader.InputReader(train_data, use_instance_mask=True)\n",
    "train_tdf = data(data_params)"
   ]
  },
  {
   "cell_type": "code",
   "execution_count": null,
   "metadata": {},
   "outputs": [],
   "source": [
    "model = tf2_model.MaskRCNN(model_params)\n",
    "#model = mask_only.MaskRCNN(model_params)"
   ]
  },
  {
   "cell_type": "code",
   "execution_count": null,
   "metadata": {},
   "outputs": [],
   "source": [
    "train_gen = iter(train_tdf.prefetch(256))"
   ]
  },
  {
   "cell_type": "code",
   "execution_count": null,
   "metadata": {},
   "outputs": [],
   "source": [
    "features, labels = next(train_gen)"
   ]
  },
  {
   "cell_type": "code",
   "execution_count": null,
   "metadata": {},
   "outputs": [],
   "source": [
    "optimizer = tf.keras.optimizers.SGD(learning_rate=0.001, momentum=0.9)\n",
    "optimizer = mixed_precision.LossScaleOptimizer(optimizer, loss_scale='dynamic')"
   ]
  },
  {
   "cell_type": "code",
   "execution_count": null,
   "metadata": {},
   "outputs": [],
   "source": [
    "@tf.function\n",
    "def train_step(features, labels, params):\n",
    "    with tf.GradientTape() as tape:\n",
    "        model_outputs = model(features, labels)\n",
    "        # rpn loss\n",
    "        total_rpn_loss, rpn_score_loss, rpn_box_loss = losses.rpn_loss(\n",
    "            score_outputs=model_outputs['rpn_score_outputs'],\n",
    "            box_outputs=model_outputs['rpn_box_outputs'],\n",
    "            labels=labels,\n",
    "            params=model_params\n",
    "        )\n",
    "        # frcnn loss\n",
    "        total_fast_rcnn_loss, fast_rcnn_class_loss, fast_rcnn_box_loss = losses.fast_rcnn_loss(\n",
    "            class_outputs=model_outputs['class_outputs'],\n",
    "            box_outputs=model_outputs['box_outputs'],\n",
    "            class_targets=model_outputs['class_targets'],\n",
    "            box_targets=model_outputs['box_targets'],\n",
    "            params=model_params\n",
    "        )\n",
    "        '''total_fast_rcnn_loss = 0\n",
    "        fast_rcnn_class_loss = 0\n",
    "        fast_rcnn_box_loss = 0'''\n",
    "        # mask loss\n",
    "        if params['include_mask']:\n",
    "            mask_loss = losses.mask_rcnn_loss(\n",
    "                mask_outputs=model_outputs['mask_outputs'],\n",
    "                mask_targets=model_outputs['mask_targets'],\n",
    "                select_class_targets=model_outputs['selected_class_targets'],\n",
    "                params=model_params\n",
    "            )\n",
    "        else:\n",
    "            mask_loss = 0\n",
    "        # l2 decay\n",
    "        trainable_variables = model.trainable_variables\n",
    "        l2_regularization_loss = model_params['l2_weight_decay'] * tf.add_n([\n",
    "            tf.nn.l2_loss(v)\n",
    "            for v in trainable_variables\n",
    "            if not any([pattern in v.name for pattern in [\"batch_normalization\", \"bias\", \"beta\"]])\n",
    "        ])\n",
    "        total_loss = total_rpn_loss + total_fast_rcnn_loss + mask_loss + l2_regularization_loss\n",
    "        scaled_loss = optimizer.get_scaled_loss(total_loss)\n",
    "    scaled_gradients = tape.gradient(scaled_loss, model.trainable_variables)\n",
    "    gradients = optimizer.get_unscaled_gradients(scaled_gradients)\n",
    "    optimizer.apply_gradients(zip(gradients, model.trainable_variables))\n",
    "    return total_loss"
   ]
  },
  {
   "cell_type": "code",
   "execution_count": null,
   "metadata": {},
   "outputs": [],
   "source": [
    "train_step(features, labels, model_params)"
   ]
  },
  {
   "cell_type": "code",
   "execution_count": null,
   "metadata": {
    "tags": []
   },
   "outputs": [],
   "source": [
    "features = {}\n",
    "labels = {}\n",
    "for i in tqdm(range(64)):\n",
    "   features[i], labels[i] = next(train_gen)"
   ]
  },
  {
   "cell_type": "code",
   "execution_count": null,
   "metadata": {
    "tags": []
   },
   "outputs": [],
   "source": [
    "progressbar = tqdm(range(64))\n",
    "loss_history = []\n",
    "for i in progressbar:\n",
    "    #features, labels = next(train_gen)\n",
    "    loss = train_step(features[i], labels[i], model_params)\n",
    "    loss_history.append(loss.numpy())\n",
    "    progressbar.set_description(\"Loss: {0:.4f}\".format(np.array(loss_history[-50:]).mean()))"
   ]
  },
  {
   "cell_type": "code",
   "execution_count": null,
   "metadata": {
    "tags": []
   },
   "outputs": [],
   "source": [
    "progressbar = tqdm(range(64))\n",
    "loss_history = []\n",
    "profile_base=\"/DLExamples/TensorFlow2/Segmentation/MaskRCNN/Profiles\"\n",
    "suffix=\"\"\n",
    "xlaflags=os.environ.get(\"TF_XLA_FLAGS\",\"\")\n",
    "if \"fusible\" in xlaflags:\n",
    "    suffix+=\"_fusible\"\n",
    "if \"min_cluster_size\" in xlaflags:\n",
    "    pos=xlaflags.find(\"min_cluster_size=\")\n",
    "    if pos >=0:\n",
    "        substr=xlaflags[pos+len(\"min_cluster_size=\")]\n",
    "        if substr.find(\" \") == -1:\n",
    "            suffix+=\"_csize\"+substr\n",
    "        else:\n",
    "            suffix+=\"_csize\"+substr[:substr.find(\" \")]\n",
    "if \"TFLocalBuild\" in tf.__file__:\n",
    "    profile_path=os.path.join(profile_base,f\"LocalBuild_2.3{suffix}\")\n",
    "    tf.profiler.experimental.start(profile_path)\n",
    "    stepstr=\"local\"\n",
    "    for i in progressbar:\n",
    "        with tf.profiler.experimental.Trace(f\"{stepstr}_train\",step_num=i,_r=1):\n",
    "            feature, label = next(train_gen)\n",
    "            loss = train_step(feature, label, model_params)\n",
    "        loss_history.append(loss.numpy())\n",
    "        progressbar.set_description(\"Loss: {0:.4f}\".format(np.array(loss_history[-50:]).mean()))\n",
    "else:\n",
    "    profile_path=os.path.join(profile_base,f\"nvidia_20.08{suffix}\")\n",
    "    tf.profiler.experimental.start(profile_path)\n",
    "    stepstr=\"nvidia\"\n",
    "    for i in progressbar:\n",
    "        feature, label = next(train_gen)\n",
    "        loss = train_step(feature, label, model_params)\n",
    "        loss_history.append(loss.numpy())\n",
    "        progressbar.set_description(\"Loss: {0:.4f}\".format(np.array(loss_history[-50:]).mean()))\n",
    "tf.profiler.experimental.stop()"
   ]
  },
  {
   "cell_type": "code",
   "execution_count": null,
   "metadata": {
    "tags": []
   },
   "outputs": [],
   "source": [
    "print(datetime.datetime.now())"
   ]
  },
  {
   "cell_type": "code",
   "execution_count": null,
   "metadata": {},
   "outputs": [],
   "source": []
  }
 ],
 "metadata": {
  "kernelspec": {
   "display_name": "Python 3.6.9 64-bit",
   "language": "python",
   "name": "python_defaultSpec_1599679943235"
  },
  "language_info": {
   "codemirror_mode": {
    "name": "ipython",
    "version": 3
   },
   "file_extension": ".py",
   "mimetype": "text/x-python",
   "name": "python",
   "nbconvert_exporter": "python",
   "pygments_lexer": "ipython3",
   "version": "3.6.9-final"
  }
 },
 "nbformat": 4,
 "nbformat_minor": 4
}
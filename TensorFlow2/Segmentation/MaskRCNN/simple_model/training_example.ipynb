{
 "cells": [
  {
   "cell_type": "markdown",
   "metadata": {},
   "source": [
    "A simplified workthrough of Mask RCNN training. Currently contains no evaluation."
   ]
  },
  {
   "cell_type": "code",
   "execution_count": 5,
   "metadata": {},
   "outputs": [],
   "source": [
    "import os\n",
    "import sys\n",
    "import itertools\n",
    "from statistics import mean\n",
    "from time import time\n",
    "from tqdm import tqdm\n",
    "sys.path.append('..')"
   ]
  },
  {
   "cell_type": "markdown",
   "metadata": {},
   "source": [
    "Set XLA to fusible. This will fuse smaller operations, but leave larger operations as is. So far, this seems to give the biggest performance gains."
   ]
  },
  {
   "cell_type": "code",
   "execution_count": 2,
   "metadata": {},
   "outputs": [],
   "source": [
    "os.environ['TF_XLA_FLAGS'] = \"--tf_xla_auto_jit=fusible\""
   ]
  },
  {
   "cell_type": "markdown",
   "metadata": {},
   "source": [
    "Disable all TF 2 behavior. Set TF to use GPU 0."
   ]
  },
  {
   "cell_type": "code",
   "execution_count": 3,
   "metadata": {},
   "outputs": [
    {
     "name": "stdout",
     "output_type": "stream",
     "text": [
      "WARNING:tensorflow:From /home/ubuntu/anaconda3/envs/tensorflow2_latest_p37/gpu/lib/python3.7/site-packages/tensorflow/python/compat/v2_compat.py:96: disable_resource_variables (from tensorflow.python.ops.variable_scope) is deprecated and will be removed in a future version.\n",
      "Instructions for updating:\n",
      "non-resource variables are not supported in the long term\n"
     ]
    }
   ],
   "source": [
    "import tensorflow.compat.v1 as tf\n",
    "tf.disable_eager_execution()\n",
    "tf.disable_v2_behavior()\n",
    "tf.config.optimizer.set_experimental_options({\"auto_mixed_precision\": True})\n",
    "\n",
    "import horovod.tensorflow as hvd\n",
    "hvd.init()\n",
    "\n",
    "physical_devices = tf.config.list_physical_devices('GPU')\n",
    "tf.config.set_visible_devices(physical_devices[hvd.rank()], 'GPU')\n",
    "devices = tf.config.list_logical_devices('GPU')"
   ]
  },
  {
   "cell_type": "code",
   "execution_count": 11,
   "metadata": {},
   "outputs": [],
   "source": [
    "from mask_rcnn.hyperparameters import dataset_params\n",
    "from mask_rcnn.hyperparameters import mask_rcnn_params\n",
    "from mask_rcnn import dataset_utils\n",
    "import load_weights, model"
   ]
  },
  {
   "cell_type": "markdown",
   "metadata": {},
   "source": [
    "Train data can be found at s3://[redacted]/data/coco/tfr_anchor/"
   ]
  },
  {
   "cell_type": "code",
   "execution_count": 12,
   "metadata": {},
   "outputs": [],
   "source": [
    "train_file_pattern = '/home/ubuntu/data/coco/tf_record/train*'\n",
    "batch_size = 6\n",
    "data_params = dataset_params.get_data_params()\n",
    "params = mask_rcnn_params.default_config().values()\n",
    "data_params['batch_size'] = batch_size\n",
    "params['finetune_bn'] = False\n",
    "params['train_batch_size'] = batch_size\n",
    "params['l2_weight_decay'] = 1e-4\n",
    "params['init_learning_rate'] = 1e-4 * batch_size\n",
    "params['warmup_learning_rate'] = 1e-3 * batch_size\n",
    "params['warmup_steps'] = 500\n",
    "params['learning_rate_steps'] = [30000,40000]\n",
    "params['learning_rate_levels'] = [1e-4 * batch_size, 1e-5 * batch_size]\n",
    "params['momentum'] = 0.9\n",
    "params['use_batched_nms'] = True"
   ]
  },
  {
   "cell_type": "markdown",
   "metadata": {},
   "source": [
    "Fast data loader is a modified data loader that handles precomputed box matches."
   ]
  },
  {
   "cell_type": "code",
   "execution_count": 14,
   "metadata": {},
   "outputs": [
    {
     "name": "stdout",
     "output_type": "stream",
     "text": [
      "[MaskRCNN] INFO    : Using Dataset Sharding with Horovod\n",
      "WARNING:tensorflow:From <ipython-input-14-4cae835ced26>:3: DatasetV1.make_initializable_iterator (from tensorflow.python.data.ops.dataset_ops) is deprecated and will be removed in a future version.\n",
      "Instructions for updating:\n",
      "This is a deprecated API that should only be used in TF 1 graph mode and legacy TF 2 graph mode available through `tf.compat.v1`. In all other situations -- namely, eager mode and inside `tf.function` -- you can consume dataset elements using `for elem in dataset: ...` or by explicitly creating iterator via `iterator = iter(dataset)` and fetching its elements via `values = next(iterator)`. Furthermore, this API is not available in TF 2. During the transition from TF 1 to TF 2 you can use `tf.compat.v1.data.make_initializable_iterator(dataset)` to create a TF 1 graph mode style iterator for a dataset created through TF 2 APIs. Note that this should be a transient state of your code base as there are in general no guarantees about the interoperability of TF 1 and TF 2 code.\n"
     ]
    }
   ],
   "source": [
    "train_input_fn = dataset_utils.FastDataLoader(train_file_pattern, data_params)\n",
    "train_tdf = train_input_fn(data_params)\n",
    "tdf_iter = train_tdf.make_initializable_iterator()\n",
    "features, labels = tdf_iter.get_next()"
   ]
  },
  {
   "cell_type": "code",
   "execution_count": 15,
   "metadata": {},
   "outputs": [],
   "source": [
    "train_op, total_loss = model.model(features, params, labels)"
   ]
  },
  {
   "cell_type": "markdown",
   "metadata": {},
   "source": [
    "Load pretrained resnet weights. Make sure to first run the ./download_and_process_pretrained_weights.sh script."
   ]
  },
  {
   "cell_type": "code",
   "execution_count": 17,
   "metadata": {},
   "outputs": [],
   "source": [
    "var_list = load_weights.build_assigment_map('resnet50/')\n",
    "checkpoint_file = tf.train.latest_checkpoint('../resnet/resnet-nhwc-2018-02-07/')\n",
    "_init_op, _init_feed_dict = load_weights.assign_from_checkpoint(checkpoint_file, var_list)"
   ]
  },
  {
   "cell_type": "markdown",
   "metadata": {},
   "source": [
    "Training loop. To run multi-gpu with horovod, use the run.sh script."
   ]
  },
  {
   "cell_type": "code",
   "execution_count": null,
   "metadata": {},
   "outputs": [
    {
     "name": "stdout",
     "output_type": "stream",
     "text": [
      "[GPU 00] Restoring pretrained weights (265 Tensors) from: ../resnet/resnet-nhwc-2018-02-07/model.ckpt-112603\n"
     ]
    },
    {
     "name": "stderr",
     "output_type": "stream",
     "text": [
      "Loss: 2.5485:   3%|▎         | 262/10000 [02:28<47:48,  3.39it/s]  "
     ]
    }
   ],
   "source": [
    "var_initializer = tf.global_variables_initializer()\n",
    "loss_history = []\n",
    "with tf.Session() as sess:\n",
    "    sess.run(_init_op, _init_feed_dict)\n",
    "    sess.run(tdf_iter.initializer)\n",
    "    sess.run(var_initializer)\n",
    "    progressbar = tqdm(range(10000))\n",
    "    for i in progressbar:\n",
    "        op, loss = sess.run((train_op, total_loss))\n",
    "        loss_history.append(loss)\n",
    "        smoothed_loss = mean(loss_history[-50:])\n",
    "        progressbar.set_description(\"Loss: {0:.4f}\".format(smoothed_loss))"
   ]
  },
  {
   "cell_type": "code",
   "execution_count": null,
   "metadata": {},
   "outputs": [],
   "source": []
  }
 ],
 "metadata": {
  "kernelspec": {
   "display_name": "Environment (conda_tensorflow2_latest_p37)",
   "language": "python",
   "name": "conda_tensorflow2_latest_p37"
  },
  "language_info": {
   "codemirror_mode": {
    "name": "ipython",
    "version": 3
   },
   "file_extension": ".py",
   "mimetype": "text/x-python",
   "name": "python",
   "nbconvert_exporter": "python",
   "pygments_lexer": "ipython3",
   "version": "3.7.7"
  }
 },
 "nbformat": 4,
 "nbformat_minor": 4
}
